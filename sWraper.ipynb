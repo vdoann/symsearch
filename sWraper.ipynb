{
 "cells": [
  {
   "cell_type": "markdown",
   "metadata": {},
   "source": [
    "Example script:\n",
    "\n",
    "\n",
    "The next three lines are simply imports, you must run\n",
    "them to get the proper packages needed.\n",
    "\n",
    "pymategen is a package used to obtain data\n",
    "\n",
    "material is a file that contains code for a material class. This class contains code to work and\n",
    "    manipulate a material\n",
    "\n",
    "materials is a file that contains code for a materials class. This class is usefull for working with lists \n",
    "    of material objects."
   ]
  },
  {
   "cell_type": "code",
   "execution_count": null,
   "metadata": {},
   "outputs": [],
   "source": [
    "import pymatgen \n",
    "from material import Material \n",
    "from materials import Materials "
   ]
  },
  {
   "cell_type": "markdown",
   "metadata": {},
   "source": [
    "The next line will initialize a Materials object\n",
    "A materials object stores a list of materials and contains functions\n",
    "that act on the all the materials that the object contains\n",
    "\n",
    "the api string is only necessary if you plan on querying data and \n",
    "searching pymatgen for structure (more on this later)\n",
    "NOTE: ITS RECOMMENDED BY ME TO ALWAYS INCLUDE IT\n",
    "\n",
    "a materials object stores the materials in a attribute called \n",
    "your_obect_here.list \n",
    "where your_object_here is the materials object you created\n",
    "\n",
    "you can create additional lists of materials inside this object, this will\n",
    "be shown later"
   ]
  },
  {
   "cell_type": "code",
   "execution_count": null,
   "metadata": {},
   "outputs": [],
   "source": [
    "api = \"DELETED MPRESTER NUMBER; OBTAIN FROM MATERIALS PROJECT\"\n",
    "nitrogen2 = Materials(api)"
   ]
  },
  {
   "cell_type": "code",
   "execution_count": null,
   "metadata": {},
   "outputs": [],
   "source": [
    "nitrogen2 = Materials()"
   ]
  },
  {
   "cell_type": "markdown",
   "metadata": {},
   "source": [
    "\n",
    "\n",
    "\n",
    "\n",
    "There are two way to fill a materials object\n",
    "1- query\n",
    "2- csv\n",
    "\n",
    "the first cell shows how to fill by query. A materials object has a function \n",
    "called .query_data that takes in 3 arguments\n",
    "    1- the element that a material must have\n",
    "    2- a list of elements that the material must have at least one of\n",
    "    3- the amount of unique elements in the material, can be a list or single number\n",
    "    \n",
    "the second cell shows how to fill by csv. A materials object has a function \n",
    "called .csv_data that takes in 1 argument\n",
    "    1- path: this is the location of the csv file\n",
    "the r infront of the strong is used because \\ is the escape character so you can\n",
    "either use \\\\ to show the \\ or use r infront of the sting to get it to show"
   ]
  },
  {
   "cell_type": "code",
   "execution_count": null,
   "metadata": {},
   "outputs": [],
   "source": [
    "contains = ['Zr','Nb','Hf','Ta','Ir','Ru','Re',\n",
    "                   'Sc','Ti','V','Cr','Mn','Fe','Co','Ni','Cu',\n",
    "                   'Y','Zr','Nb','Mo','Ru','Rh','Pd','Ag',\n",
    "                    'Hf','Ta','W','Re','Os','Ir','Pt','Au']\n",
    "must_have = 'N'\n",
    "amount_of_elements = 2\n",
    "nitrogen2.add_list(nitrogen2.query_data(must_have,contains,amount_of_elements),'list')\n"
   ]
  },
  {
   "cell_type": "code",
   "execution_count": null,
   "metadata": {},
   "outputs": [],
   "source": [
    "path = r'data/pnictides/N/binary/magnetic-all.csv'\n",
    "nitrogen2.add_list(nitrogen2.csv_data(path),'list')\n"
   ]
  },
  {
   "cell_type": "markdown",
   "metadata": {},
   "source": [
    "Below are function that will provide additional information for \n",
    "the materials. Each function has 1 optional argument, data.\n",
    "\n",
    "Each function will act on the materials in object.list\n",
    "if you have other lists in the object you can set each function to work \n",
    "on that list instead by setting the parameter data in your function call by:\n",
    "data = 'your_different_list_here' \n",
    "an example of how to do this is done further on"
   ]
  },
  {
   "cell_type": "code",
   "execution_count": null,
   "metadata": {},
   "outputs": [],
   "source": [
    "nitrogen2.get_structures()"
   ]
  },
  {
   "cell_type": "code",
   "execution_count": null,
   "metadata": {},
   "outputs": [],
   "source": [
    "#must have structure\n",
    "nitrogen2.get_magnetic_data()"
   ]
  },
  {
   "cell_type": "code",
   "execution_count": null,
   "metadata": {},
   "outputs": [],
   "source": [
    "#must have structure\n",
    "#adds attribute coor_env to collection\n",
    "nitrogen2.get_coord_envs()"
   ]
  },
  {
   "cell_type": "code",
   "execution_count": null,
   "metadata": {},
   "outputs": [],
   "source": [
    "#the messes with things at the moment so be carefull when using\n",
    "nitrogen2.get_oxidation_states()"
   ]
  },
  {
   "cell_type": "code",
   "execution_count": null,
   "metadata": {},
   "outputs": [],
   "source": [
    "#must have structure\n",
    "#adds the atrribtue is_hex to each material which is either T/F\n",
    "#this tests if the magnetic centers of the material form a hexagonal shape \n",
    "\n",
    "#MUST HAVE STRUCTURES AND MAGNETIC DATA ABOUT THE MATERIAL\n",
    "nitrogen2.analyze_hex()"
   ]
  },
  {
   "cell_type": "markdown",
   "metadata": {},
   "source": [
    "There are two easy use sorting functions\n",
    "\n",
    "     1- only: used when you want to sort by categorical data\n",
    "        there are two arguments and two optional argumetns\n",
    "         \n",
    "         1-key: what key you are trying to sort by\n",
    "         2-value: what value you want.... can be a list \n",
    "        \n",
    "         optional:\n",
    "         1- data = 'list': you can set data = to a differentt list of materials\n",
    "         2- nt = None: this stands for not, if you want the opposite of your input set to true\n",
    "        \n",
    "    2- bound: useful when dealing with numerical data\n",
    "        there is technically only one argument needed but technically there is three\n",
    "        \n",
    "        1-key:what you are sorting by, must be numerical data\n",
    "        2-lower = 0:   default is 0\n",
    "        3-upper = 1000000000000: default is something like that \n",
    "        \n",
    "        optional: same as above\n",
    "        \n",
    "        \n",
    " "
   ]
  },
  {
   "cell_type": "code",
   "execution_count": null,
   "metadata": {},
   "outputs": [],
   "source": [
    "nitrogen2 = nitrogen2.only('mag_type',['Ordering.AFM','Ordering.NM'],nt=True)\n",
    "nitrogen2 = nitrogen2.bound('sp_number',168,194)"
   ]
  },
  {
   "cell_type": "markdown",
   "metadata": {},
   "source": [
    "To find what atributes your material has, each material has a collection attribute- material.collection\n",
    "this is each individual material, not a materials object but a material object that is usually stored in a materials object\n",
    "\n",
    "A material as a string will include everything in its collection, to remove a attribute from this collection use the function:\n",
    "object.remove_from_collection([atributes_here])\n",
    "\n",
    "or if you want to remove the atrributes from all materials there is a function in the materials object called... remove_from_collection()\n",
    "this function takes 2 argumetns\n",
    "    1- the attributes you want to remove in a list\n",
    "    2- optional: data='list' i think you get this one by now"
   ]
  },
  {
   "cell_type": "code",
   "execution_count": null,
   "metadata": {},
   "outputs": [],
   "source": []
  }
 ],
 "metadata": {
  "kernelspec": {
   "display_name": "Python 3",
   "language": "python",
   "name": "python3"
  },
  "language_info": {
   "codemirror_mode": {
    "name": "ipython",
    "version": 3
   },
   "file_extension": ".py",
   "mimetype": "text/x-python",
   "name": "python",
   "nbconvert_exporter": "python",
   "pygments_lexer": "ipython3",
   "version": "3.7.4"
  }
 },
 "nbformat": 4,
 "nbformat_minor": 2
}
