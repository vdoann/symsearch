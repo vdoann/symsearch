{
 "cells": [
  {
   "cell_type": "code",
   "execution_count": 1,
   "metadata": {},
   "outputs": [],
   "source": [
    "import pymatgen\n",
    "from materials import Materials\n",
    "from material import Material"
   ]
  },
  {
   "cell_type": "code",
   "execution_count": 3,
   "metadata": {},
   "outputs": [],
   "source": [
    "search = {\n",
    "    #'pnictides':['N','P','As'],\n",
    "    #'oxides': ['O'],\n",
    "    #'chalcogens':['S','Se','Te'],\n",
    "    #'halides':['F','Cl','Br','I'],\n",
    "    'Borides':['B']\n",
    "}\n",
    "\n",
    "transitionmetal =  ['Pt','Au','Ag']\n",
    "                   #['Zr'],'Nb','Hf','Ta','Ir','Ru','Re',\n",
    "                   #'Sc','Ti','V','Cr','Mn','Fe','Co','Ni','Cu',\n",
    "                   #'Y','Zr','Nb','Mo','Ru','Rh','Pd','Ag',\n",
    "                   # 'Hf','Ta','W','Re','Os','Ir','Pt','Au']\n",
    "\n",
    "number = {\n",
    "    'binary':2,\n",
    "    'ternary':3,\n",
    "    #'quaternary':4,\n",
    "    #'quinary':5\n",
    "}\n",
    "\n",
    "\n",
    "\n",
    "api = \"8Sh3MsT7FumEzPdG\""
   ]
  },
  {
   "cell_type": "code",
   "execution_count": 6,
   "metadata": {},
   "outputs": [
    {
     "name": "stdout",
     "output_type": "stream",
     "text": [
      "The demo worked as planned!!\n"
     ]
    }
   ],
   "source": [
    "for group,elements in search.items():\n",
    "    for e in elements:\n",
    "        for name,num in number.items():\n",
    "            m = Materials(api)\n",
    "            m.add_list(m.query_data(e,transitionmetal,num))\n",
    "            for qqq in m.list:\n",
    "                #currently saves all cifs as its material id\n",
    "                #can add in custom path saving\n",
    "                qqq.save_cif()\n",
    "            del m\n",
    "            \n",
    "            \n",
    "print('The demo worked as planned!!')\n"
   ]
  },
  {
   "cell_type": "code",
   "execution_count": null,
   "metadata": {},
   "outputs": [],
   "source": [
    "tm = ['Pt','Au','Ag']\n",
    "s = ['B']\n",
    "num = [2,3]\n",
    "api = \"8Sh3MsT7FumEzPdG\"\n",
    "\n",
    "m = materials()\n",
    "m.add_list(m.query_data((s,tm,num)))\n",
    "\n",
    "for qqq in m.list():\n",
    "    qqq.save_cif()"
   ]
  },
  {
   "cell_type": "code",
   "execution_count": null,
   "metadata": {},
   "outputs": [],
   "source": []
  },
  {
   "cell_type": "code",
   "execution_count": null,
   "metadata": {},
   "outputs": [],
   "source": [
    "\n",
    "\n",
    "transitionmetal = ['Zr','Nb','Hf','Ta','Ir','Ru','Re',\n",
    "                   'Sc','Ti','V','Cr','Mn','Fe','Co','Ni','Cu',\n",
    "                   'Y','Zr','Nb','Mo','Ru','Rh','Pd','Ag',\n",
    "                    'Hf','Ta','W','Re','Os','Ir','Pt','Au']\n",
    "\n",
    "search = {\n",
    "    'pnictides':['N','P','As'],\n",
    "    'oxides': ['O'],\n",
    "    'chalcogens':['S','Se','Te'],\n",
    "    'halides':['F','Cl','Br','I'],\n",
    "    'Borides':['B']\n",
    "}\n",
    "\n",
    "number = {\n",
    "    'binary':2,\n",
    "    'ternary':3,\n",
    "    'quaternary':4,\n",
    "    'quinary':5\n",
    "}\n",
    "\n",
    "\n",
    "\n",
    "api = \"DELETED MATERIALS PROJECT UNIQUE IDENTIFIER\""
   ]
  }
 ],
 "metadata": {
  "kernelspec": {
   "display_name": "Python 3",
   "language": "python",
   "name": "python3"
  },
  "language_info": {
   "codemirror_mode": {
    "name": "ipython",
    "version": 3
   },
   "file_extension": ".py",
   "mimetype": "text/x-python",
   "name": "python",
   "nbconvert_exporter": "python",
   "pygments_lexer": "ipython3",
   "version": "3.7.4"
  }
 },
 "nbformat": 4,
 "nbformat_minor": 2
}
